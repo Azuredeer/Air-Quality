{
 "cells": [
  {
   "cell_type": "markdown",
   "metadata": {},
   "source": [
    "# Proyek Analisis Data : Air Quality\n",
    "- **Nama        :** Yoan Rifqi Candra\n",
    "- **Email       :** yoanrifqicandra@gmail.com\n",
    "- **ID Dicoding :** "
   ]
  },
  {
   "cell_type": "markdown",
   "metadata": {},
   "source": []
  }
 ],
 "metadata": {
  "language_info": {
   "name": "python"
  }
 },
 "nbformat": 4,
 "nbformat_minor": 2
}
