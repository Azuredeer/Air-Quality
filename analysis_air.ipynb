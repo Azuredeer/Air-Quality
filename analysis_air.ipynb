{
 "cells": [
  {
   "cell_type": "markdown",
   "metadata": {},
   "source": [
    "# Proyek Analisis Data : Air Quality\n",
    "- **Nama        :** Yoan Rifqi Candra\n",
    "- **Email       :** yoanrifqicandra@gmail.com\n",
    "- **ID Dicoding :** yoanrifqi"
   ]
  },
  {
   "cell_type": "markdown",
   "metadata": {},
   "source": [
    "## Menentukan Pertanyaan Bisnis"
   ]
  },
  {
   "cell_type": "markdown",
   "metadata": {},
   "source": [
    "- Pertanyaan 1 :\n",
    "Bagaimana perkembangan kualitas udara di setiap stasiun selama 5 tahun?\n",
    "\n",
    "- Pertanyaan 2 :\n",
    "stasiun mana yang memiliki kualitas udara yang paling buruk?\n",
    "\n",
    "- Pertanyaan 3 :\n",
    "Bagaimana peningkatan kualitas udara pada setiap jam di setiap stasiun?"
   ]
  },
  {
   "cell_type": "markdown",
   "metadata": {},
   "source": [
    "## Library yang digunakan"
   ]
  },
  {
   "cell_type": "code",
   "execution_count": 8,
   "metadata": {},
   "outputs": [],
   "source": [
    "import pandas as pd\n",
    "import numpy as np\n",
    "import seaborn as sns\n",
    "import matplotlib.pyplot as plt"
   ]
  },
  {
   "cell_type": "markdown",
   "metadata": {},
   "source": [
    "## Data Wrangling"
   ]
  },
  {
   "cell_type": "markdown",
   "metadata": {},
   "source": [
    "### Gathering Data"
   ]
  },
  {
   "cell_type": "code",
   "execution_count": 4,
   "metadata": {},
   "outputs": [
    {
     "name": "stderr",
     "output_type": "stream",
     "text": [
      "<>:2: SyntaxWarning: invalid escape sequence '\\P'\n",
      "<>:3: SyntaxWarning: invalid escape sequence '\\P'\n",
      "<>:4: SyntaxWarning: invalid escape sequence '\\P'\n",
      "<>:5: SyntaxWarning: invalid escape sequence '\\P'\n",
      "<>:6: SyntaxWarning: invalid escape sequence '\\P'\n",
      "<>:7: SyntaxWarning: invalid escape sequence '\\P'\n",
      "<>:8: SyntaxWarning: invalid escape sequence '\\P'\n",
      "<>:9: SyntaxWarning: invalid escape sequence '\\P'\n",
      "<>:10: SyntaxWarning: invalid escape sequence '\\P'\n",
      "<>:11: SyntaxWarning: invalid escape sequence '\\P'\n",
      "<>:12: SyntaxWarning: invalid escape sequence '\\P'\n",
      "<>:13: SyntaxWarning: invalid escape sequence '\\P'\n",
      "<>:2: SyntaxWarning: invalid escape sequence '\\P'\n",
      "<>:3: SyntaxWarning: invalid escape sequence '\\P'\n",
      "<>:4: SyntaxWarning: invalid escape sequence '\\P'\n",
      "<>:5: SyntaxWarning: invalid escape sequence '\\P'\n",
      "<>:6: SyntaxWarning: invalid escape sequence '\\P'\n",
      "<>:7: SyntaxWarning: invalid escape sequence '\\P'\n",
      "<>:8: SyntaxWarning: invalid escape sequence '\\P'\n",
      "<>:9: SyntaxWarning: invalid escape sequence '\\P'\n",
      "<>:10: SyntaxWarning: invalid escape sequence '\\P'\n",
      "<>:11: SyntaxWarning: invalid escape sequence '\\P'\n",
      "<>:12: SyntaxWarning: invalid escape sequence '\\P'\n",
      "<>:13: SyntaxWarning: invalid escape sequence '\\P'\n",
      "C:\\Users\\Yoan Rifqi\\AppData\\Local\\Temp\\ipykernel_11476\\3116313737.py:2: SyntaxWarning: invalid escape sequence '\\P'\n",
      "  Aotizhongxin = pd.read_csv(\"Air Quality Dataset\\PRSA_Data_Aotizhongxin_20130301-20170228.csv\")\n",
      "C:\\Users\\Yoan Rifqi\\AppData\\Local\\Temp\\ipykernel_11476\\3116313737.py:3: SyntaxWarning: invalid escape sequence '\\P'\n",
      "  Changping = pd.read_csv(\"Air Quality Dataset\\PRSA_Data_Changping_20130301-20170228.csv\")\n",
      "C:\\Users\\Yoan Rifqi\\AppData\\Local\\Temp\\ipykernel_11476\\3116313737.py:4: SyntaxWarning: invalid escape sequence '\\P'\n",
      "  Dingling = pd.read_csv(\"Air Quality Dataset\\PRSA_Data_Dingling_20130301-20170228.csv\")\n",
      "C:\\Users\\Yoan Rifqi\\AppData\\Local\\Temp\\ipykernel_11476\\3116313737.py:5: SyntaxWarning: invalid escape sequence '\\P'\n",
      "  Dongsi = pd.read_csv(\"Air Quality Dataset\\PRSA_Data_Dongsi_20130301-20170228.csv\")\n",
      "C:\\Users\\Yoan Rifqi\\AppData\\Local\\Temp\\ipykernel_11476\\3116313737.py:6: SyntaxWarning: invalid escape sequence '\\P'\n",
      "  Guanyuan = pd.read_csv(\"Air Quality Dataset\\PRSA_Data_Guanyuan_20130301-20170228.csv\")\n",
      "C:\\Users\\Yoan Rifqi\\AppData\\Local\\Temp\\ipykernel_11476\\3116313737.py:7: SyntaxWarning: invalid escape sequence '\\P'\n",
      "  Gucheng = pd.read_csv(\"Air Quality Dataset\\PRSA_Data_Gucheng_20130301-20170228.csv\")\n",
      "C:\\Users\\Yoan Rifqi\\AppData\\Local\\Temp\\ipykernel_11476\\3116313737.py:8: SyntaxWarning: invalid escape sequence '\\P'\n",
      "  Huairou = pd.read_csv(\"Air Quality Dataset\\PRSA_Data_Huairou_20130301-20170228.csv\")\n",
      "C:\\Users\\Yoan Rifqi\\AppData\\Local\\Temp\\ipykernel_11476\\3116313737.py:9: SyntaxWarning: invalid escape sequence '\\P'\n",
      "  Nongzhanguan = pd.read_csv(\"Air Quality Dataset\\PRSA_Data_Nongzhanguan_20130301-20170228.csv\")\n",
      "C:\\Users\\Yoan Rifqi\\AppData\\Local\\Temp\\ipykernel_11476\\3116313737.py:10: SyntaxWarning: invalid escape sequence '\\P'\n",
      "  Shunyi = pd.read_csv(\"Air Quality Dataset\\PRSA_Data_Shunyi_20130301-20170228.csv\")\n",
      "C:\\Users\\Yoan Rifqi\\AppData\\Local\\Temp\\ipykernel_11476\\3116313737.py:11: SyntaxWarning: invalid escape sequence '\\P'\n",
      "  Tiantan = pd.read_csv(\"Air Quality Dataset\\PRSA_Data_Tiantan_20130301-20170228.csv\")\n",
      "C:\\Users\\Yoan Rifqi\\AppData\\Local\\Temp\\ipykernel_11476\\3116313737.py:12: SyntaxWarning: invalid escape sequence '\\P'\n",
      "  Wanliu = pd.read_csv(\"Air Quality Dataset\\PRSA_Data_Wanliu_20130301-20170228.csv\")\n",
      "C:\\Users\\Yoan Rifqi\\AppData\\Local\\Temp\\ipykernel_11476\\3116313737.py:13: SyntaxWarning: invalid escape sequence '\\P'\n",
      "  Wanshouxigong = pd.read_csv(\"Air Quality Dataset\\PRSA_Data_Wanshouxigong_20130301-20170228.csv\")\n"
     ]
    }
   ],
   "source": [
    "# Load dataset\n",
    "Aotizhongxin = pd.read_csv(\"Air Quality Dataset\\PRSA_Data_Aotizhongxin_20130301-20170228.csv\")\n",
    "Changping = pd.read_csv(\"Air Quality Dataset\\PRSA_Data_Changping_20130301-20170228.csv\")\n",
    "Dingling = pd.read_csv(\"Air Quality Dataset\\PRSA_Data_Dingling_20130301-20170228.csv\")\n",
    "Dongsi = pd.read_csv(\"Air Quality Dataset\\PRSA_Data_Dongsi_20130301-20170228.csv\")\n",
    "Guanyuan = pd.read_csv(\"Air Quality Dataset\\PRSA_Data_Guanyuan_20130301-20170228.csv\")\n",
    "Gucheng = pd.read_csv(\"Air Quality Dataset\\PRSA_Data_Gucheng_20130301-20170228.csv\")\n",
    "Huairou = pd.read_csv(\"Air Quality Dataset\\PRSA_Data_Huairou_20130301-20170228.csv\")\n",
    "Nongzhanguan = pd.read_csv(\"Air Quality Dataset\\PRSA_Data_Nongzhanguan_20130301-20170228.csv\")\n",
    "Shunyi = pd.read_csv(\"Air Quality Dataset\\PRSA_Data_Shunyi_20130301-20170228.csv\")\n",
    "Tiantan = pd.read_csv(\"Air Quality Dataset\\PRSA_Data_Tiantan_20130301-20170228.csv\")\n",
    "Wanliu = pd.read_csv(\"Air Quality Dataset\\PRSA_Data_Wanliu_20130301-20170228.csv\")\n",
    "Wanshouxigong = pd.read_csv(\"Air Quality Dataset\\PRSA_Data_Wanshouxigong_20130301-20170228.csv\")"
   ]
  },
  {
   "cell_type": "code",
   "execution_count": 9,
   "metadata": {},
   "outputs": [
    {
     "data": {
      "text/html": [
       "<div>\n",
       "<style scoped>\n",
       "    .dataframe tbody tr th:only-of-type {\n",
       "        vertical-align: middle;\n",
       "    }\n",
       "\n",
       "    .dataframe tbody tr th {\n",
       "        vertical-align: top;\n",
       "    }\n",
       "\n",
       "    .dataframe thead th {\n",
       "        text-align: right;\n",
       "    }\n",
       "</style>\n",
       "<table border=\"1\" class=\"dataframe\">\n",
       "  <thead>\n",
       "    <tr style=\"text-align: right;\">\n",
       "      <th></th>\n",
       "      <th>No</th>\n",
       "      <th>year</th>\n",
       "      <th>month</th>\n",
       "      <th>day</th>\n",
       "      <th>hour</th>\n",
       "      <th>PM2.5</th>\n",
       "      <th>PM10</th>\n",
       "      <th>SO2</th>\n",
       "      <th>NO2</th>\n",
       "      <th>CO</th>\n",
       "      <th>O3</th>\n",
       "      <th>TEMP</th>\n",
       "      <th>PRES</th>\n",
       "      <th>DEWP</th>\n",
       "      <th>RAIN</th>\n",
       "      <th>wd</th>\n",
       "      <th>WSPM</th>\n",
       "      <th>station</th>\n",
       "    </tr>\n",
       "  </thead>\n",
       "  <tbody>\n",
       "    <tr>\n",
       "      <th>0</th>\n",
       "      <td>1</td>\n",
       "      <td>2013</td>\n",
       "      <td>3</td>\n",
       "      <td>1</td>\n",
       "      <td>0</td>\n",
       "      <td>4.0</td>\n",
       "      <td>4.0</td>\n",
       "      <td>4.0</td>\n",
       "      <td>7.0</td>\n",
       "      <td>300.0</td>\n",
       "      <td>77.0</td>\n",
       "      <td>-0.7</td>\n",
       "      <td>1023.0</td>\n",
       "      <td>-18.8</td>\n",
       "      <td>0.0</td>\n",
       "      <td>NNW</td>\n",
       "      <td>4.4</td>\n",
       "      <td>Aotizhongxin</td>\n",
       "    </tr>\n",
       "    <tr>\n",
       "      <th>1</th>\n",
       "      <td>2</td>\n",
       "      <td>2013</td>\n",
       "      <td>3</td>\n",
       "      <td>1</td>\n",
       "      <td>1</td>\n",
       "      <td>8.0</td>\n",
       "      <td>8.0</td>\n",
       "      <td>4.0</td>\n",
       "      <td>7.0</td>\n",
       "      <td>300.0</td>\n",
       "      <td>77.0</td>\n",
       "      <td>-1.1</td>\n",
       "      <td>1023.2</td>\n",
       "      <td>-18.2</td>\n",
       "      <td>0.0</td>\n",
       "      <td>N</td>\n",
       "      <td>4.7</td>\n",
       "      <td>Aotizhongxin</td>\n",
       "    </tr>\n",
       "    <tr>\n",
       "      <th>2</th>\n",
       "      <td>3</td>\n",
       "      <td>2013</td>\n",
       "      <td>3</td>\n",
       "      <td>1</td>\n",
       "      <td>2</td>\n",
       "      <td>7.0</td>\n",
       "      <td>7.0</td>\n",
       "      <td>5.0</td>\n",
       "      <td>10.0</td>\n",
       "      <td>300.0</td>\n",
       "      <td>73.0</td>\n",
       "      <td>-1.1</td>\n",
       "      <td>1023.5</td>\n",
       "      <td>-18.2</td>\n",
       "      <td>0.0</td>\n",
       "      <td>NNW</td>\n",
       "      <td>5.6</td>\n",
       "      <td>Aotizhongxin</td>\n",
       "    </tr>\n",
       "    <tr>\n",
       "      <th>3</th>\n",
       "      <td>4</td>\n",
       "      <td>2013</td>\n",
       "      <td>3</td>\n",
       "      <td>1</td>\n",
       "      <td>3</td>\n",
       "      <td>6.0</td>\n",
       "      <td>6.0</td>\n",
       "      <td>11.0</td>\n",
       "      <td>11.0</td>\n",
       "      <td>300.0</td>\n",
       "      <td>72.0</td>\n",
       "      <td>-1.4</td>\n",
       "      <td>1024.5</td>\n",
       "      <td>-19.4</td>\n",
       "      <td>0.0</td>\n",
       "      <td>NW</td>\n",
       "      <td>3.1</td>\n",
       "      <td>Aotizhongxin</td>\n",
       "    </tr>\n",
       "    <tr>\n",
       "      <th>4</th>\n",
       "      <td>5</td>\n",
       "      <td>2013</td>\n",
       "      <td>3</td>\n",
       "      <td>1</td>\n",
       "      <td>4</td>\n",
       "      <td>3.0</td>\n",
       "      <td>3.0</td>\n",
       "      <td>12.0</td>\n",
       "      <td>12.0</td>\n",
       "      <td>300.0</td>\n",
       "      <td>72.0</td>\n",
       "      <td>-2.0</td>\n",
       "      <td>1025.2</td>\n",
       "      <td>-19.5</td>\n",
       "      <td>0.0</td>\n",
       "      <td>N</td>\n",
       "      <td>2.0</td>\n",
       "      <td>Aotizhongxin</td>\n",
       "    </tr>\n",
       "    <tr>\n",
       "      <th>...</th>\n",
       "      <td>...</td>\n",
       "      <td>...</td>\n",
       "      <td>...</td>\n",
       "      <td>...</td>\n",
       "      <td>...</td>\n",
       "      <td>...</td>\n",
       "      <td>...</td>\n",
       "      <td>...</td>\n",
       "      <td>...</td>\n",
       "      <td>...</td>\n",
       "      <td>...</td>\n",
       "      <td>...</td>\n",
       "      <td>...</td>\n",
       "      <td>...</td>\n",
       "      <td>...</td>\n",
       "      <td>...</td>\n",
       "      <td>...</td>\n",
       "      <td>...</td>\n",
       "    </tr>\n",
       "    <tr>\n",
       "      <th>420763</th>\n",
       "      <td>35060</td>\n",
       "      <td>2017</td>\n",
       "      <td>2</td>\n",
       "      <td>28</td>\n",
       "      <td>19</td>\n",
       "      <td>11.0</td>\n",
       "      <td>32.0</td>\n",
       "      <td>3.0</td>\n",
       "      <td>24.0</td>\n",
       "      <td>400.0</td>\n",
       "      <td>72.0</td>\n",
       "      <td>12.5</td>\n",
       "      <td>1013.5</td>\n",
       "      <td>-16.2</td>\n",
       "      <td>0.0</td>\n",
       "      <td>NW</td>\n",
       "      <td>2.4</td>\n",
       "      <td>Wanshouxigong</td>\n",
       "    </tr>\n",
       "    <tr>\n",
       "      <th>420764</th>\n",
       "      <td>35061</td>\n",
       "      <td>2017</td>\n",
       "      <td>2</td>\n",
       "      <td>28</td>\n",
       "      <td>20</td>\n",
       "      <td>13.0</td>\n",
       "      <td>32.0</td>\n",
       "      <td>3.0</td>\n",
       "      <td>41.0</td>\n",
       "      <td>500.0</td>\n",
       "      <td>50.0</td>\n",
       "      <td>11.6</td>\n",
       "      <td>1013.6</td>\n",
       "      <td>-15.1</td>\n",
       "      <td>0.0</td>\n",
       "      <td>WNW</td>\n",
       "      <td>0.9</td>\n",
       "      <td>Wanshouxigong</td>\n",
       "    </tr>\n",
       "    <tr>\n",
       "      <th>420765</th>\n",
       "      <td>35062</td>\n",
       "      <td>2017</td>\n",
       "      <td>2</td>\n",
       "      <td>28</td>\n",
       "      <td>21</td>\n",
       "      <td>14.0</td>\n",
       "      <td>28.0</td>\n",
       "      <td>4.0</td>\n",
       "      <td>38.0</td>\n",
       "      <td>500.0</td>\n",
       "      <td>54.0</td>\n",
       "      <td>10.8</td>\n",
       "      <td>1014.2</td>\n",
       "      <td>-13.3</td>\n",
       "      <td>0.0</td>\n",
       "      <td>NW</td>\n",
       "      <td>1.1</td>\n",
       "      <td>Wanshouxigong</td>\n",
       "    </tr>\n",
       "    <tr>\n",
       "      <th>420766</th>\n",
       "      <td>35063</td>\n",
       "      <td>2017</td>\n",
       "      <td>2</td>\n",
       "      <td>28</td>\n",
       "      <td>22</td>\n",
       "      <td>12.0</td>\n",
       "      <td>23.0</td>\n",
       "      <td>4.0</td>\n",
       "      <td>30.0</td>\n",
       "      <td>400.0</td>\n",
       "      <td>59.0</td>\n",
       "      <td>10.5</td>\n",
       "      <td>1014.4</td>\n",
       "      <td>-12.9</td>\n",
       "      <td>0.0</td>\n",
       "      <td>NNW</td>\n",
       "      <td>1.2</td>\n",
       "      <td>Wanshouxigong</td>\n",
       "    </tr>\n",
       "    <tr>\n",
       "      <th>420767</th>\n",
       "      <td>35064</td>\n",
       "      <td>2017</td>\n",
       "      <td>2</td>\n",
       "      <td>28</td>\n",
       "      <td>23</td>\n",
       "      <td>13.0</td>\n",
       "      <td>19.0</td>\n",
       "      <td>4.0</td>\n",
       "      <td>38.0</td>\n",
       "      <td>600.0</td>\n",
       "      <td>49.0</td>\n",
       "      <td>8.6</td>\n",
       "      <td>1014.1</td>\n",
       "      <td>-15.9</td>\n",
       "      <td>0.0</td>\n",
       "      <td>NNE</td>\n",
       "      <td>1.3</td>\n",
       "      <td>Wanshouxigong</td>\n",
       "    </tr>\n",
       "  </tbody>\n",
       "</table>\n",
       "<p>420768 rows × 18 columns</p>\n",
       "</div>"
      ],
      "text/plain": [
       "           No  year  month  day  hour  PM2.5  PM10   SO2   NO2     CO    O3  \\\n",
       "0           1  2013      3    1     0    4.0   4.0   4.0   7.0  300.0  77.0   \n",
       "1           2  2013      3    1     1    8.0   8.0   4.0   7.0  300.0  77.0   \n",
       "2           3  2013      3    1     2    7.0   7.0   5.0  10.0  300.0  73.0   \n",
       "3           4  2013      3    1     3    6.0   6.0  11.0  11.0  300.0  72.0   \n",
       "4           5  2013      3    1     4    3.0   3.0  12.0  12.0  300.0  72.0   \n",
       "...       ...   ...    ...  ...   ...    ...   ...   ...   ...    ...   ...   \n",
       "420763  35060  2017      2   28    19   11.0  32.0   3.0  24.0  400.0  72.0   \n",
       "420764  35061  2017      2   28    20   13.0  32.0   3.0  41.0  500.0  50.0   \n",
       "420765  35062  2017      2   28    21   14.0  28.0   4.0  38.0  500.0  54.0   \n",
       "420766  35063  2017      2   28    22   12.0  23.0   4.0  30.0  400.0  59.0   \n",
       "420767  35064  2017      2   28    23   13.0  19.0   4.0  38.0  600.0  49.0   \n",
       "\n",
       "        TEMP    PRES  DEWP  RAIN   wd  WSPM        station  \n",
       "0       -0.7  1023.0 -18.8   0.0  NNW   4.4   Aotizhongxin  \n",
       "1       -1.1  1023.2 -18.2   0.0    N   4.7   Aotizhongxin  \n",
       "2       -1.1  1023.5 -18.2   0.0  NNW   5.6   Aotizhongxin  \n",
       "3       -1.4  1024.5 -19.4   0.0   NW   3.1   Aotizhongxin  \n",
       "4       -2.0  1025.2 -19.5   0.0    N   2.0   Aotizhongxin  \n",
       "...      ...     ...   ...   ...  ...   ...            ...  \n",
       "420763  12.5  1013.5 -16.2   0.0   NW   2.4  Wanshouxigong  \n",
       "420764  11.6  1013.6 -15.1   0.0  WNW   0.9  Wanshouxigong  \n",
       "420765  10.8  1014.2 -13.3   0.0   NW   1.1  Wanshouxigong  \n",
       "420766  10.5  1014.4 -12.9   0.0  NNW   1.2  Wanshouxigong  \n",
       "420767   8.6  1014.1 -15.9   0.0  NNE   1.3  Wanshouxigong  \n",
       "\n",
       "[420768 rows x 18 columns]"
      ]
     },
     "execution_count": 9,
     "metadata": {},
     "output_type": "execute_result"
    }
   ],
   "source": [
    "# Merge dataset\n",
    "data = pd.concat([\n",
    "        pd.read_csv(r\"Air Quality Dataset\\PRSA_Data_Aotizhongxin_20130301-20170228.csv\"),\n",
    "        pd.read_csv(r\"Air Quality Dataset\\PRSA_Data_Changping_20130301-20170228.csv\"),\n",
    "        pd.read_csv(r\"Air Quality Dataset\\PRSA_Data_Dingling_20130301-20170228.csv\"),\n",
    "        pd.read_csv(r\"Air Quality Dataset\\PRSA_Data_Dongsi_20130301-20170228.csv\"),\n",
    "        pd.read_csv(r\"Air Quality Dataset\\PRSA_Data_Guanyuan_20130301-20170228.csv\"),\n",
    "        pd.read_csv(r\"Air Quality Dataset\\PRSA_Data_Gucheng_20130301-20170228.csv\"),\n",
    "        pd.read_csv(r\"Air Quality Dataset\\PRSA_Data_Huairou_20130301-20170228.csv\"),\n",
    "        pd.read_csv(r\"Air Quality Dataset\\PRSA_Data_Nongzhanguan_20130301-20170228.csv\"),\n",
    "        pd.read_csv(r\"Air Quality Dataset\\PRSA_Data_Shunyi_20130301-20170228.csv\"),\n",
    "        pd.read_csv(r\"Air Quality Dataset\\PRSA_Data_Tiantan_20130301-20170228.csv\"),\n",
    "        pd.read_csv(r\"Air Quality Dataset\\PRSA_Data_Wanliu_20130301-20170228.csv\"),\n",
    "        pd.read_csv(r\"Air Quality Dataset\\PRSA_Data_Wanshouxigong_20130301-20170228.csv\")],\n",
    "    ignore_index=True)\n",
    "\n",
    "data"
   ]
  },
  {
   "cell_type": "markdown",
   "metadata": {},
   "source": [
    "**Insight**\n",
    "- lorem ipsum\n",
    "- lorem ipsum"
   ]
  },
  {
   "cell_type": "markdown",
   "metadata": {},
   "source": [
    "### Assessing Data"
   ]
  },
  {
   "cell_type": "markdown",
   "metadata": {},
   "source": [
    "***Insight***\n",
    "- lorem ipsum\n",
    "- lorem ipsum"
   ]
  },
  {
   "cell_type": "markdown",
   "metadata": {},
   "source": [
    "### Cleaning Data"
   ]
  },
  {
   "cell_type": "markdown",
   "metadata": {},
   "source": [
    "- lorem ipsum\n",
    "- lorem ipsum"
   ]
  },
  {
   "cell_type": "markdown",
   "metadata": {},
   "source": [
    "## Exploratory Data Analysis (EDA)"
   ]
  },
  {
   "cell_type": "markdown",
   "metadata": {},
   "source": [
    "### Explore"
   ]
  },
  {
   "cell_type": "markdown",
   "metadata": {},
   "source": [
    "***Insight***\n",
    "- lorem ipsum\n",
    "- lorem ipsum"
   ]
  },
  {
   "cell_type": "markdown",
   "metadata": {},
   "source": [
    "## Visualization & Explanatory Analysis"
   ]
  },
  {
   "cell_type": "markdown",
   "metadata": {},
   "source": [
    "### Pertanyaan 1"
   ]
  },
  {
   "cell_type": "markdown",
   "metadata": {},
   "source": [
    "### Pertanyaan 2"
   ]
  },
  {
   "cell_type": "markdown",
   "metadata": {},
   "source": [
    "### Pertanyaan 3"
   ]
  },
  {
   "cell_type": "markdown",
   "metadata": {},
   "source": [
    "***Insight***\n",
    "- lorem ipsum\n",
    "- lorem ipsum"
   ]
  },
  {
   "cell_type": "markdown",
   "metadata": {},
   "source": [
    "## Analisis Lebih Lanjut"
   ]
  },
  {
   "cell_type": "markdown",
   "metadata": {},
   "source": [
    "## Conclusion"
   ]
  }
 ],
 "metadata": {
  "kernelspec": {
   "display_name": ".venv",
   "language": "python",
   "name": "python3"
  },
  "language_info": {
   "codemirror_mode": {
    "name": "ipython",
    "version": 3
   },
   "file_extension": ".py",
   "mimetype": "text/x-python",
   "name": "python",
   "nbconvert_exporter": "python",
   "pygments_lexer": "ipython3",
   "version": "3.12.6"
  }
 },
 "nbformat": 4,
 "nbformat_minor": 2
}
